{
 "cells": [
  {
   "cell_type": "markdown",
   "id": "ef529c19",
   "metadata": {},
   "source": [
    "# Data Structures and Algorithms in Python"
   ]
  },
  {
   "cell_type": "markdown",
   "id": "2205ec88",
   "metadata": {},
   "source": [
    "# Algorithms"
   ]
  },
  {
   "cell_type": "raw",
   "id": "90c8f83e",
   "metadata": {},
   "source": [
    "Searching Algorithms\n",
    "    Searching algorithms are used to seek for some elements present in a given dataset. There are many types of search algorithms such as Linear Search, Binary Search, Exponential Search, Interpolation Search, and so on. In this section, we will see the Linear Search and Binary Search."
   ]
  },
  {
   "cell_type": "raw",
   "id": "27458b0b",
   "metadata": {},
   "source": [
    "Linear Search\n",
    "    In a single-dimensional array we have to search a particular key element. The input is the group of elements and the key element that we want to find. So, we have to compare the key element with each element of the group. In the following code, I try to seek element 27 in our list."
   ]
  },
  {
   "cell_type": "code",
   "execution_count": 3,
   "id": "cd2b0187",
   "metadata": {},
   "outputs": [
    {
     "name": "stdout",
     "output_type": "stream",
     "text": [
      "not fund\n",
      "1\n"
     ]
    }
   ],
   "source": [
    "def lin_search(ourlist, key):\n",
    "    \n",
    "    for index in range(0, len(ourlist)):\n",
    "        if (ourlist[index] == key):\n",
    "            return  index\n",
    "    else:\n",
    "        return \"not fund\"\n",
    "    \n",
    "ourlist = [15, 1, 9, 3]\n",
    "\n",
    "print(lin_search(ourlist, 27))\n",
    "print(lin_search(ourlist, 1))"
   ]
  },
  {
   "cell_type": "raw",
   "id": "4005222e",
   "metadata": {},
   "source": [
    "Binary Search\n",
    "    In this algorithm, we assume that the list is in ascending order. So, if the value of the search key is less than the element in the middle of the list, we narrow the interval to the lower half. Otherwise, we narrow to the upper half. We continue our check until the value is found or the list is empty."
   ]
  },
  {
   "cell_type": "code",
   "execution_count": 4,
   "id": "ca0892f9",
   "metadata": {},
   "outputs": [
    {
     "name": "stdout",
     "output_type": "stream",
     "text": [
      "False\n",
      "True\n"
     ]
    }
   ],
   "source": [
    "def bin_search(ourlist, key):\n",
    "    left = 0 # I assign left position to zero\n",
    "    right = len(ourlist)-1 # I assign right position by defining the length of ourlist minus one \n",
    "    matched = False\n",
    "    while(left<=right and not matched): # the loop will continue untill the left element is less or equal to the right element and the matched is True\n",
    "        mid = (left+right)//2 # I find the position of the middle element\n",
    "        if ourlist[mid] == key: # if the middle element correponds to the key element\n",
    "             matched = True\n",
    "        else: #otherwise \n",
    "            if key < ourlist[mid]: # if key element is less than the middle element\n",
    "                right = mid - 1 #I assign the position of the right element as mid - 1\n",
    "            else: #otherwise\n",
    "                left = mid + 1 #left position will become the middle position plus 1\n",
    "    return matched\n",
    "\n",
    "print(bin_search([1, 3, 9, 15], 17))\n",
    "print(bin_search([1, 3, 9, 15], 3))"
   ]
  }
 ],
 "metadata": {
  "kernelspec": {
   "display_name": "Python 3",
   "language": "python",
   "name": "python3"
  },
  "language_info": {
   "codemirror_mode": {
    "name": "ipython",
    "version": 3
   },
   "file_extension": ".py",
   "mimetype": "text/x-python",
   "name": "python",
   "nbconvert_exporter": "python",
   "pygments_lexer": "ipython3",
   "version": "3.8.10"
  }
 },
 "nbformat": 4,
 "nbformat_minor": 5
}
