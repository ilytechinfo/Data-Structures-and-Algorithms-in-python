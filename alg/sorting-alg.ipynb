{
 "cells": [
  {
   "cell_type": "markdown",
   "id": "ec49d593",
   "metadata": {},
   "source": [
    "# Data Structures and Algorithms in Python"
   ]
  },
  {
   "cell_type": "markdown",
   "id": "7d8eecfa",
   "metadata": {},
   "source": [
    "# Algorithms "
   ]
  },
  {
   "cell_type": "raw",
   "id": "88a4e327",
   "metadata": {},
   "source": [
    "Sorting \n",
    "    The sorting algorithm is used to sort data in some given order. It can be classified in Merge Sort and Bubble Sort."
   ]
  },
  {
   "cell_type": "raw",
   "id": "624f065f",
   "metadata": {},
   "source": [
    "Merge Sort \n",
    "        It follows the divide et Impera rule. The given list is first divided into smaller lists and compares adjacent lists and then, reorders them in the desired sequence. So, in summary from unordered elements as input, we need to have ordered elements as output. Below, the code with each step described."
   ]
  },
  {
   "cell_type": "code",
   "execution_count": 3,
   "id": "35a51af0",
   "metadata": {},
   "outputs": [
    {
     "name": "stdout",
     "output_type": "stream",
     "text": [
      "input - unordered elements: 15 1 19 43\n",
      "output - ordered elements: \n",
      "[1, 15, 19, 43]\n"
     ]
    }
   ],
   "source": [
    "def merge_sort(ourlist, left, right): #left and right corresponds to starting and ending element of ourlist\n",
    "    if right -left > 1: # check if the length of ourlist is greater than 1\n",
    "        middle = (left + right) // 2 # we divide the length in two parts\n",
    "        merge_sort(ourlist, left, middle) # recursevely I call the merge_sort function from left to middle\n",
    "        merge_sort(ourlist, middle, right) # then from middle to right\n",
    "        merge_list(ourlist, left, middle, right) # finally I create ourlist in complete form(left, middle and right) \n",
    "        \n",
    "def merge_list(ourlist, left, middle, right):# I create the function merged_list\n",
    "    leftlist = ourlist[left:middle] # I define the leftlist\n",
    "    rightlist = ourlist[middle:right] # I define the right list\n",
    "    k = left # it is the the temporary variable\n",
    "    i = 0 # this variable that corespond to the index of the first group help me to iterate from left to right\n",
    "    j = 0 # this variable that corespond to the index of the second group help me to iterate from left to right\n",
    "    while (left + i < middle and middle+ j < right): # the condition that I want to achive before to stop my iteration\n",
    "        if (leftlist[i] <= rightlist[j]): #if the element in the leftlist is less or equal to the element in the rightlist\n",
    "            ourlist[k] = leftlist[i] # In this case I fill the value of the leftlist in ourlist with index k\n",
    "            i = i + 1 #now I have to increment the value by 1\n",
    "        else: # if the above codition is not match\n",
    "            ourlist[k] = rightlist[j] # I fill the rightlist element in ourlist with index k\n",
    "            j = j + 1 # I increment index j by 1\n",
    "        k = k+1 # now I increment the value of k by 1\n",
    "    if left + i < middle: # check if left + i is less than middle\n",
    "        ourlist[k] = leftlist[i] # I place all elements of my leftlist in ourlist\n",
    "        i = i + 1\n",
    "        k = k + 1\n",
    "    else: # otherwise if my leftlist is empty\n",
    "        while k < right: # untill k is less then right\n",
    "            ourlist[k] = rightlist[j] # I place all elements of rightlist in ourlist \n",
    "            j = j + 1\n",
    "            k = k + 1\n",
    "            \n",
    "ourlist = input('input - unordered elements: ').split() # insert the input and split\n",
    "ourlist = [int(x) for x in ourlist]\n",
    "merge_sort(ourlist, 0, len(ourlist))\n",
    "print('output - ordered elements: ')\n",
    "print(ourlist)"
   ]
  },
  {
   "cell_type": "raw",
   "id": "3063e83c",
   "metadata": {},
   "source": [
    "Bubble Sort \n",
    "        It first compares and then sorts adjacent elements if they are not in the specified order."
   ]
  },
  {
   "cell_type": "code",
   "execution_count": 2,
   "id": "5c6b7c5d",
   "metadata": {},
   "outputs": [
    {
     "data": {
      "text/plain": [
       "[1, 9, 3, 15]"
      ]
     },
     "execution_count": 2,
     "metadata": {},
     "output_type": "execute_result"
    }
   ],
   "source": [
    "def bubble_sort(ourlist): # I create my function bubble_sort with the argument called ourlist\n",
    "    b=len(ourlist)-1 # for every list, I will have a minus 1 iteration\n",
    "    for x in range(b): # for each element in the range of b, I check if they are ordered or not\n",
    "        for y in range(b-x): \n",
    "            if ourlist[y]>ourlist[y+1]: # if one element is greater than the nearest elemnt in the list\n",
    "                ourlist[y],ourlist[y+1]=ourlist[y+1],ourlist[y] # I have to swap the elemnts, in other words\n",
    "                                                          # I exchange the position of the two elements\n",
    "        return ourlist\n",
    "    \n",
    "ourlist=[15,1,9,3]\n",
    "bubble_sort(ourlist)"
   ]
  },
  {
   "cell_type": "raw",
   "id": "e5308d63",
   "metadata": {},
   "source": [
    "Insertion Sort\n",
    "    It picks one item of a given list at the time and places it at the exact spot where it is to be placed."
   ]
  },
  {
   "cell_type": "code",
   "execution_count": 4,
   "id": "d11c947c",
   "metadata": {},
   "outputs": [
    {
     "data": {
      "text/plain": [
       "[1, 3, 9, 15]"
      ]
     },
     "execution_count": 4,
     "metadata": {},
     "output_type": "execute_result"
    }
   ],
   "source": [
    "def ins_sort(ourlist):\n",
    "    for x in range(1, len(ourlist)): # loop for each element starting from 1 to the length of our list\n",
    "        k = ourlist[x] # element with the index x\n",
    "        j = x-1 # j is the index previus the index x\n",
    "        while j >=0 and k < ourlist[j]: # untill each elermnt of the list are less than their previous element my loop don't stop\n",
    "                ourlist[j+1] = ourlist[j] # the elemnt indexed before the element considered is set to the next one index\n",
    "                j -= 1 # I decrement index j by 1\n",
    "        ourlist[j+1] = k # now k is the element in the index j+1\n",
    "    return ourlist\n",
    "        \n",
    "ourlist = [15, 1, 9, 3]\n",
    "ins_sort(ourlist)"
   ]
  },
  {
   "cell_type": "raw",
   "id": "2bc9bfa1",
   "metadata": {},
   "source": [
    "There are other Sorting Algorithms like Selection Sort and Shell Sort."
   ]
  }
 ],
 "metadata": {
  "kernelspec": {
   "display_name": "Python 3",
   "language": "python",
   "name": "python3"
  },
  "language_info": {
   "codemirror_mode": {
    "name": "ipython",
    "version": 3
   },
   "file_extension": ".py",
   "mimetype": "text/x-python",
   "name": "python",
   "nbconvert_exporter": "python",
   "pygments_lexer": "ipython3",
   "version": "3.8.10"
  }
 },
 "nbformat": 4,
 "nbformat_minor": 5
}
