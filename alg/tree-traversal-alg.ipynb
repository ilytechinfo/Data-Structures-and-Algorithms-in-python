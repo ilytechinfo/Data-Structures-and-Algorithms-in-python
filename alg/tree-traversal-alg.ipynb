{
 "cells": [
  {
   "cell_type": "markdown",
   "id": "3a45e4e0",
   "metadata": {},
   "source": [
    "# Data Structures and Algorithms in Python"
   ]
  },
  {
   "cell_type": "markdown",
   "id": "1cb0f34e",
   "metadata": {},
   "source": [
    "# Algorithms"
   ]
  },
  {
   "cell_type": "raw",
   "id": "0822f1ad",
   "metadata": {},
   "source": [
    "Tree Traversal Algorithm\n",
    "    Trees in python are non-linear data structures. They are characterized by roots and nodes. I take the class I constructed before for the binary tree.\n",
    "    Tree Traversal refers to visiting each node present in the tree exactly once, in order to update or check them.\n",
    "    \n",
    " There are three types of tree traversals:\n",
    "    In-order traversal → refers to visiting the left node, followed by the root and then the right nodes.\n",
    "    Pre-order traversal → refers to visiting the root node followed by the left nodes and then the right nodes.\n",
    "    Post-order traversal → refers to visiting the left nodes followed by the right nodes and then the root node."
   ]
  },
  {
   "cell_type": "raw",
   "id": "9e7f937b",
   "metadata": {},
   "source": [
    "Algorithm Inorder(tree)\n",
    "   1. Traverse the left subtree, i.e., call Inorder(left-subtree)\n",
    "   2. Visit the root.\n",
    "   3. Traverse the right subtree, i.e., call Inorder(right-subtree)"
   ]
  },
  {
   "cell_type": "raw",
   "id": "0e4375e2",
   "metadata": {},
   "source": [
    "Algorithm Preorder(tree)\n",
    "   1. Visit the root.\n",
    "   2. Traverse the left subtree, i.e., call Preorder(left-subtree)\n",
    "   3. Traverse the right subtree, i.e., call Preorder(right-subtree) "
   ]
  },
  {
   "cell_type": "raw",
   "id": "6b3f3f57",
   "metadata": {},
   "source": [
    "Algorithm Postorder(tree)\n",
    "   1. Traverse the left subtree, i.e., call Postorder(left-subtree)\n",
    "   2. Traverse the right subtree, i.e., call Postorder(right-subtree)\n",
    "   3. Visit the root."
   ]
  },
  {
   "cell_type": "code",
   "execution_count": 5,
   "id": "bcd01ea8",
   "metadata": {},
   "outputs": [
    {
     "name": "stdout",
     "output_type": "stream",
     "text": [
      "Preorder traversal of binary tree is\n",
      "1\n",
      "2\n",
      "4\n",
      "5\n",
      "3\n",
      "\n",
      "Inorder traversal of binary tree is\n",
      "4\n",
      "2\n",
      "5\n",
      "1\n",
      "3\n",
      "\n",
      "Postorder traversal of binary tree is\n",
      "4\n",
      "5\n",
      "2\n",
      "3\n",
      "1\n"
     ]
    }
   ],
   "source": [
    "# Python program to for tree traversals\n",
    "\n",
    "# A class that represents an individual node in a\n",
    "# Binary Tree\n",
    "\n",
    "\n",
    "class Node:\n",
    "    def __init__(self, key):\n",
    "        self.left = None\n",
    "        self.right = None\n",
    "        self.val = key\n",
    "\n",
    "\n",
    "# A function to do inorder tree traversal\n",
    "def printInorder(root):\n",
    "\n",
    "    if root:\n",
    "\n",
    "        # First recur on left child\n",
    "        printInorder(root.left)\n",
    "\n",
    "        # then print the data of node\n",
    "        print(root.val),\n",
    "\n",
    "        # now recur on right child\n",
    "        printInorder(root.right)\n",
    "\n",
    "\n",
    "# A function to do postorder tree traversal\n",
    "def printPostorder(root):\n",
    "\n",
    "    if root:\n",
    "\n",
    "        # First recur on left child\n",
    "        printPostorder(root.left)\n",
    "\n",
    "        # the recur on right child\n",
    "        printPostorder(root.right)\n",
    "\n",
    "        # now print the data of node\n",
    "        print(root.val),\n",
    "\n",
    "\n",
    "# A function to do preorder tree traversal\n",
    "def printPreorder(root):\n",
    "\n",
    "    if root:\n",
    "\n",
    "        # First print the data of node\n",
    "        print(root.val),\n",
    "\n",
    "        # Then recur on left child\n",
    "        printPreorder(root.left)\n",
    "\n",
    "        # Finally recur on right child\n",
    "        printPreorder(root.right)\n",
    "\n",
    "\n",
    "# Driver code\n",
    "root = Node(1)\n",
    "root.left = Node(2)\n",
    "root.right = Node(3)\n",
    "root.left.left = Node(4)\n",
    "root.left.right = Node(5)\n",
    "print (\"Preorder traversal of binary tree is\")\n",
    "printPreorder(root)\n",
    "\n",
    "print (\"\\nInorder traversal of binary tree is\")\n",
    "printInorder(root)\n",
    "\n",
    "print (\"\\nPostorder traversal of binary tree is\")\n",
    "printPostorder(root)\n"
   ]
  }
 ],
 "metadata": {
  "kernelspec": {
   "display_name": "Python 3",
   "language": "python",
   "name": "python3"
  },
  "language_info": {
   "codemirror_mode": {
    "name": "ipython",
    "version": 3
   },
   "file_extension": ".py",
   "mimetype": "text/x-python",
   "name": "python",
   "nbconvert_exporter": "python",
   "pygments_lexer": "ipython3",
   "version": "3.8.10"
  }
 },
 "nbformat": 4,
 "nbformat_minor": 5
}
