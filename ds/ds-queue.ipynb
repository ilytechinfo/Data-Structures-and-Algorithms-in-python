{
 "cells": [
  {
   "cell_type": "markdown",
   "id": "fe315714",
   "metadata": {},
   "source": [
    "# Data Structures and Algorithms in python"
   ]
  },
  {
   "cell_type": "markdown",
   "id": "10e214a5",
   "metadata": {},
   "source": [
    "# User-Defined Data Structures"
   ]
  },
  {
   "cell_type": "raw",
   "id": "355f5940",
   "metadata": {},
   "source": [
    "Queue using arrays\n",
    "    The queue is a linear data structure where elements are in a sequential manner. It follows the F.I.F.O mechanism that means first in first out. \n",
    "    Think when you go to the cinema with your friends, as you can imagine the first of you that give the ticket is also the first that step out of the line. The mechanism of the queue is the same."
   ]
  },
  {
   "cell_type": "raw",
   "id": "3c0ccf2e",
   "metadata": {},
   "source": [
    "Below the aspects that characterize a queue.\n",
    "Two ends:\n",
    "    front → points to starting element\n",
    "    rear → points to the last element\n",
    "There are two operations:\n",
    "    enqueue → inserting an element into the queue. It will be done at the rear.\n",
    "    dequeue → deleting an element from the queue. It will be done at the front.\n",
    "There are two conditions:\n",
    "    overflow → insertion into a queue that is full\n",
    "    underflow → deletion from the empty queue"
   ]
  },
  {
   "cell_type": "code",
   "execution_count": 1,
   "id": "bd7a613f",
   "metadata": {},
   "outputs": [
    {
     "name": "stdout",
     "output_type": "stream",
     "text": [
      "[2, 3, 4, 5]\n",
      "[3, 4, 5]\n"
     ]
    }
   ],
   "source": [
    "class myqueue:\n",
    "    \n",
    "    def __init__(self):\n",
    "        self.data = []\n",
    "        \n",
    "    def length(self):\n",
    "        return len(self.data)\n",
    "    \n",
    "    def enque(self, element): # put the element in the queue\n",
    "        if len(self.data) < 5:\n",
    "            return self.data.append(element)\n",
    "        else:\n",
    "            return \"overflow\"\n",
    "        \n",
    "    def deque(self): # remove the first element that we have put in queue\n",
    "        if len(self.data) == 0:\n",
    "             return \"underflow\"\n",
    "        else:\n",
    "            self.data.pop(0)\n",
    "            \n",
    "b = myqueue()\n",
    "b.enque(2) # put the element into the queue\n",
    "b.enque(3)\n",
    "b.enque(4)\n",
    "b.enque(5)\n",
    "print(b.data)\n",
    "b.deque()# # remove the first element that we have put in the queue\n",
    "print(b.data)"
   ]
  }
 ],
 "metadata": {
  "kernelspec": {
   "display_name": "Python 3",
   "language": "python",
   "name": "python3"
  },
  "language_info": {
   "codemirror_mode": {
    "name": "ipython",
    "version": 3
   },
   "file_extension": ".py",
   "mimetype": "text/x-python",
   "name": "python",
   "nbconvert_exporter": "python",
   "pygments_lexer": "ipython3",
   "version": "3.8.10"
  }
 },
 "nbformat": 4,
 "nbformat_minor": 5
}
