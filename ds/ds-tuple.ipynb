{
 "cells": [
  {
   "cell_type": "markdown",
   "id": "3d472ea9",
   "metadata": {},
   "source": [
    "# Data Structures and Algorithms in python"
   ]
  },
  {
   "cell_type": "markdown",
   "id": "58e2dc3a",
   "metadata": {},
   "source": [
    "# Bult-in Data Structures"
   ]
  },
  {
   "cell_type": "raw",
   "id": "e7fca603",
   "metadata": {},
   "source": [
    "Tuple\n",
    "    A tuple is another container. It is a data type for immutable ordered sequences of elements. Immutable because you can’t add and remove elements from tuples, or sort them in place.    "
   ]
  },
  {
   "cell_type": "code",
   "execution_count": 1,
   "id": "bd808a72",
   "metadata": {},
   "outputs": [
    {
     "name": "stdout",
     "output_type": "stream",
     "text": [
      "The dimensions are 7 x 3 x 1\n"
     ]
    }
   ],
   "source": [
    "length, width, height = 7, 3, 1 # we can assign multiple varibles in one shot\n",
    "print(\"The dimensions are {} x {} x {}\".format(length, width, height))"
   ]
  },
  {
   "cell_type": "code",
   "execution_count": 3,
   "id": "1f88ac5f",
   "metadata": {},
   "outputs": [
    {
     "name": "stdout",
     "output_type": "stream",
     "text": [
      "7\n",
      "1\n"
     ]
    }
   ],
   "source": [
    "# index()method takes one argument and returns the index of the first appearance of an item in a tuple. \n",
    "x=(11,22,33,44,55,22,66,77,88,99,22)\n",
    "print(x.index(77))\n",
    "print(x.index(22)) # Here 22 is present on index 1,5 and 10 but its first occurence is considered."
   ]
  },
  {
   "cell_type": "code",
   "execution_count": 9,
   "id": "b24cf995",
   "metadata": {},
   "outputs": [
    {
     "name": "stdout",
     "output_type": "stream",
     "text": [
      "1\n",
      "3\n"
     ]
    }
   ],
   "source": [
    "# count()returns the number of occurrences of value in given tuple.\n",
    "x=(11,22,33,44,55,22,66,77,88,99,22,43)\n",
    "print(x.count(77))\n",
    "print(x.count(22))"
   ]
  },
  {
   "cell_type": "code",
   "execution_count": 10,
   "id": "a7a261f0",
   "metadata": {},
   "outputs": [
    {
     "data": {
      "text/plain": [
       "12"
      ]
     },
     "execution_count": 10,
     "metadata": {},
     "output_type": "execute_result"
    }
   ],
   "source": [
    "# len() returns the integer value of number of items present in the tuple.\n",
    "len(x)"
   ]
  },
  {
   "cell_type": "code",
   "execution_count": 11,
   "id": "32bdc2ea",
   "metadata": {},
   "outputs": [
    {
     "data": {
      "text/plain": [
       "11"
      ]
     },
     "execution_count": 11,
     "metadata": {},
     "output_type": "execute_result"
    }
   ],
   "source": [
    "# min()returns minimum (integer or ordinal) value from tuple\n",
    "min(x)"
   ]
  },
  {
   "cell_type": "code",
   "execution_count": 12,
   "id": "65b8bf51",
   "metadata": {},
   "outputs": [
    {
     "data": {
      "text/plain": [
       "99"
      ]
     },
     "execution_count": 12,
     "metadata": {},
     "output_type": "execute_result"
    }
   ],
   "source": [
    "# max() returns the maximum (integer or ordinal) value from the tuple\n",
    "max(x)"
   ]
  },
  {
   "cell_type": "code",
   "execution_count": 15,
   "id": "4c50a5fc",
   "metadata": {},
   "outputs": [
    {
     "name": "stdout",
     "output_type": "stream",
     "text": [
      "582\n"
     ]
    },
    {
     "ename": "TypeError",
     "evalue": "unsupported operand type(s) for +: 'int' and 'str'",
     "output_type": "error",
     "traceback": [
      "\u001b[0;31m---------------------------------------------------------------------------\u001b[0m",
      "\u001b[0;31mTypeError\u001b[0m                                 Traceback (most recent call last)",
      "\u001b[0;32m<ipython-input-15-c34ee2519234>\u001b[0m in \u001b[0;36m<module>\u001b[0;34m\u001b[0m\n\u001b[1;32m      3\u001b[0m \u001b[0mprint\u001b[0m\u001b[0;34m(\u001b[0m\u001b[0msum\u001b[0m\u001b[0;34m(\u001b[0m\u001b[0mx\u001b[0m\u001b[0;34m)\u001b[0m\u001b[0;34m)\u001b[0m\u001b[0;34m\u001b[0m\u001b[0;34m\u001b[0m\u001b[0m\n\u001b[1;32m      4\u001b[0m \u001b[0mstx\u001b[0m \u001b[0;34m=\u001b[0m \u001b[0;34m(\u001b[0m\u001b[0;34m'1'\u001b[0m\u001b[0;34m,\u001b[0m\u001b[0;34m'3'\u001b[0m\u001b[0;34m,\u001b[0m\u001b[0;34m'jfshj'\u001b[0m\u001b[0;34m)\u001b[0m\u001b[0;34m\u001b[0m\u001b[0;34m\u001b[0m\u001b[0m\n\u001b[0;32m----> 5\u001b[0;31m \u001b[0mprint\u001b[0m\u001b[0;34m(\u001b[0m\u001b[0msum\u001b[0m\u001b[0;34m(\u001b[0m\u001b[0mstx\u001b[0m\u001b[0;34m)\u001b[0m\u001b[0;34m)\u001b[0m\u001b[0;34m\u001b[0m\u001b[0;34m\u001b[0m\u001b[0m\n\u001b[0m",
      "\u001b[0;31mTypeError\u001b[0m: unsupported operand type(s) for +: 'int' and 'str'"
     ]
    }
   ],
   "source": [
    "# sum function returns the arithmetic sum of all the items in the tuple.\n",
    "# However, you can’t apply this function on a tuple with strings.\n",
    "print(sum(x))\n",
    "stx = ('1','3','jfshj')\n",
    "print(sum(stx))"
   ]
  },
  {
   "cell_type": "code",
   "execution_count": 18,
   "id": "32aaa0c9",
   "metadata": {},
   "outputs": [
    {
     "name": "stdout",
     "output_type": "stream",
     "text": [
      "True\n",
      "False\n"
     ]
    }
   ],
   "source": [
    "# any()\n",
    "# If even one item in the tuple has a Boolean value of True, then this function returns True. Otherwise, it returns False\n",
    "print(any(('','',8)))\n",
    "# The value 8 does have a Boolean value of True. \n",
    "# If it was rather the integer 0, it would’ve returned False.\n",
    "print(any(('','',0))) "
   ]
  },
  {
   "cell_type": "code",
   "execution_count": 19,
   "id": "9752eacb",
   "metadata": {},
   "outputs": [
    {
     "name": "stdout",
     "output_type": "stream",
     "text": [
      "True\n",
      "False\n"
     ]
    }
   ],
   "source": [
    "# all()\n",
    "# Unlike any(), all() returns True only if all items have a Boolean value of True. Otherwise, it returns False.\n",
    "print(all(('1','2',8)))\n",
    "print(all(('1','2','')))"
   ]
  },
  {
   "cell_type": "code",
   "execution_count": 22,
   "id": "bfc485e3",
   "metadata": {},
   "outputs": [
    {
     "name": "stdout",
     "output_type": "stream",
     "text": [
      "[1, 3, 4, 6, 7, 8, 9]\n",
      "[9, 8, 7, 6, 4, 3, 1]\n"
     ]
    }
   ],
   "source": [
    "# sorted()\n",
    "# This function returns a sorted version of the tuple. The sorting is in ascending order, \n",
    "# and it doesn’t modify the original tuple in Python.\n",
    "# If we want to sort in descending order we can set reverse parameter as True.\n",
    "r=(7,6,8,4,3,1,9)\n",
    "print(sorted(r)) #ascending order\n",
    "print(sorted(r,reverse=True))  #descending order"
   ]
  },
  {
   "cell_type": "code",
   "execution_count": 25,
   "id": "dc6dc9da",
   "metadata": {},
   "outputs": [
    {
     "name": "stdout",
     "output_type": "stream",
     "text": [
      "('a', 8.3, 57, 0.6)\n",
      "('p', 'y', 't', 'h', 'o', 'n')\n"
     ]
    }
   ],
   "source": [
    "# tuple()\n",
    "# This function converts another sequence like list, string etc into a Python tuple\n",
    "LL=['a',8.3,57,0.6]\n",
    "print(tuple(LL))\n",
    "st='python'\n",
    "print(tuple(st))"
   ]
  }
 ],
 "metadata": {
  "kernelspec": {
   "display_name": "Python 3",
   "language": "python",
   "name": "python3"
  },
  "language_info": {
   "codemirror_mode": {
    "name": "ipython",
    "version": 3
   },
   "file_extension": ".py",
   "mimetype": "text/x-python",
   "name": "python",
   "nbconvert_exporter": "python",
   "pygments_lexer": "ipython3",
   "version": "3.8.10"
  }
 },
 "nbformat": 4,
 "nbformat_minor": 5
}
