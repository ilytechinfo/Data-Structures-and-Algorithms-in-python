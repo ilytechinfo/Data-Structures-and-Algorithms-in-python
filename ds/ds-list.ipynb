{
 "cells": [
  {
   "cell_type": "markdown",
   "id": "06cc4f6d",
   "metadata": {},
   "source": [
    "# Data Structures and Algorithms in python"
   ]
  },
  {
   "cell_type": "markdown",
   "id": "677e0bb7",
   "metadata": {},
   "source": [
    "# Bult-in Data Structures"
   ]
  },
  {
   "cell_type": "raw",
   "id": "acaf9d16",
   "metadata": {},
   "source": [
    "List\n",
    "    A list is defined using square brackets and holds data that is separated by commas. The list is mutable and ordered. It can contain a mix of different data types."
   ]
  },
  {
   "cell_type": "code",
   "execution_count": 2,
   "id": "b6a02a0e",
   "metadata": {},
   "outputs": [
    {
     "name": "stdout",
     "output_type": "stream",
     "text": [
      "january\n",
      "['january', 'february', 'march', 'april', 'may', 'june', 'july']\n",
      "['birthday', 'february', 'march', 'april', 'may', 'june', 'july', 'august', 'september', 'october', 'november', 'december']\n"
     ]
    }
   ],
   "source": [
    "months = ['january','february','march','april','may','june','july','august','september','october','november','december']\n",
    "print(months[0]) # print the elemment with index 0\n",
    "print(months[0:7]) # all the elements from index 0 to 6.\n",
    "months[0] = 'birthday' # exchange the value in index 0 with the word birthday\n",
    "print(months)"
   ]
  },
  {
   "cell_type": "raw",
   "id": "9bbd9b89",
   "metadata": {},
   "source": [
    "Useful Functions for the list "
   ]
  },
  {
   "cell_type": "code",
   "execution_count": 3,
   "id": "ae9d5b22",
   "metadata": {},
   "outputs": [
    {
     "name": "stdout",
     "output_type": "stream",
     "text": [
      "[230.87, 237.81, 453.42, 463.98, 589.36]\n"
     ]
    }
   ],
   "source": [
    "# The sort() method is a built-in Python method that, by default, sorts the list in ascending order. \n",
    "# However, you’ll modify the order from ascending to descending by specifying the sorting criteria.\n",
    "prices = [589.36, 237.81, 230.87, 463.98, 453.42] \n",
    "prices.sort() \n",
    "print(prices)"
   ]
  },
  {
   "cell_type": "code",
   "execution_count": 4,
   "id": "0648a623",
   "metadata": {},
   "outputs": [
    {
     "data": {
      "text/plain": [
       "list"
      ]
     },
     "execution_count": 4,
     "metadata": {},
     "output_type": "execute_result"
    }
   ],
   "source": [
    "# type() function, returns the class type of an object.\n",
    "fam = [\"abs\", 1.57, \"egfrma\", 1.768, \"mom\", 1.71, \"dad\"]\n",
    "type(fam)"
   ]
  },
  {
   "cell_type": "code",
   "execution_count": 5,
   "id": "57331ee1",
   "metadata": {},
   "outputs": [
    {
     "name": "stdout",
     "output_type": "stream",
     "text": [
      "['January', 'February', 'March', 'April']\n"
     ]
    }
   ],
   "source": [
    "# The append() method will add some elements you enter to the end of the elements you specified.\n",
    "months = ['January', 'February', 'March'] \n",
    "months.append('April') \n",
    "print(months)"
   ]
  },
  {
   "cell_type": "code",
   "execution_count": 6,
   "id": "317e9793",
   "metadata": {},
   "outputs": [
    {
     "data": {
      "text/plain": [
       "[1, 2, 3, 4, 5, 6]"
      ]
     },
     "execution_count": 6,
     "metadata": {},
     "output_type": "execute_result"
    }
   ],
   "source": [
    "# The extend() method increases the length of the list by the number of elements that are provided to the strategy,\n",
    "# so if you’d prefer to add multiple elements to the list, you will be able to use this method.\n",
    "list = [1, 2, 3] \n",
    "list.extend([4, 5, 6]) \n",
    "list"
   ]
  },
  {
   "cell_type": "code",
   "execution_count": 7,
   "id": "c617976c",
   "metadata": {},
   "outputs": [
    {
     "data": {
      "text/plain": [
       "2"
      ]
     },
     "execution_count": 7,
     "metadata": {},
     "output_type": "execute_result"
    }
   ],
   "source": [
    "# The index() method returns the primary appearance of the required value.\n",
    "months = ['January', 'February', 'March', 'April', 'May'] \n",
    "months.index('March')"
   ]
  },
  {
   "cell_type": "code",
   "execution_count": 9,
   "id": "87f15663",
   "metadata": {},
   "outputs": [
    {
     "name": "stdout",
     "output_type": "stream",
     "text": [
      "663.98\n"
     ]
    }
   ],
   "source": [
    "# The max() function will return the highest value from the inputted values.\n",
    "prices = [589.36, 237.81, 230.87, 663.98, 453.42] \n",
    "price_max = max(prices) \n",
    "print(price_max)"
   ]
  },
  {
   "cell_type": "code",
   "execution_count": 12,
   "id": "ec7279ed",
   "metadata": {},
   "outputs": [
    {
     "data": {
      "text/plain": [
       "'February'"
      ]
     },
     "execution_count": 12,
     "metadata": {},
     "output_type": "execute_result"
    }
   ],
   "source": [
    "# The min() function will return the rock bottom value from the inputted values.\n",
    "months = ['January', 'February', 'March'] \n",
    "prices = [238.11, 237.81, 238.91]\n",
    "# Identify min price \n",
    "min_price = min(prices) \n",
    "# Identify min price index \n",
    "min_index = prices.index(min_price) \n",
    "# Identify the month with min price \n",
    "min_month = months[min_index] \n",
    "min_month"
   ]
  },
  {
   "cell_type": "code",
   "execution_count": 14,
   "id": "02e6cf7f",
   "metadata": {},
   "outputs": [
    {
     "name": "stdout",
     "output_type": "stream",
     "text": [
      "list_1 length is  1\n",
      "list_2 length is  3\n"
     ]
    }
   ],
   "source": [
    "# The len() function returns the number of elements in a specified list.\n",
    "list_1 = [50.29] \n",
    "list_2 = [76.14, 89.64, 167.28] \n",
    "print('list_1 length is ', len(list_1)) \n",
    "print('list_2 length is ', len(list_2))"
   ]
  },
  {
   "cell_type": "code",
   "execution_count": 18,
   "id": "ae35cb9a",
   "metadata": {},
   "outputs": [
    {
     "data": {
      "text/plain": [
       "[]"
      ]
     },
     "execution_count": 18,
     "metadata": {},
     "output_type": "execute_result"
    }
   ],
   "source": [
    "# The clear() method removes all the elements from a specified list and converts them to an empty list.\n",
    "months = ['January', 'February', 'March', 'April', 'May'] \n",
    "months.clear()\n",
    "months"
   ]
  },
  {
   "cell_type": "code",
   "execution_count": 20,
   "id": "c4bfc12e",
   "metadata": {},
   "outputs": [
    {
     "data": {
      "text/plain": [
       "['apple', 'banana', 'pineapple', 'cherry']"
      ]
     },
     "execution_count": 20,
     "metadata": {},
     "output_type": "execute_result"
    }
   ],
   "source": [
    "# The insert() method inserts the required value at the desired position.\n",
    "fruits = ['apple', 'banana', 'cherry']\n",
    "fruits.insert(2, \"pineapple\")\n",
    "fruits"
   ]
  },
  {
   "cell_type": "code",
   "execution_count": 21,
   "id": "6c426af5",
   "metadata": {},
   "outputs": [
    {
     "data": {
      "text/plain": [
       "3"
      ]
     },
     "execution_count": 21,
     "metadata": {},
     "output_type": "execute_result"
    }
   ],
   "source": [
    "# The count() method returns the number of elements with the desired value.\n",
    "fruits = ['cherry', 'apple', 'cherry', 'banana', 'cherry']\n",
    "fruits.count(\"cherry\")"
   ]
  },
  {
   "cell_type": "code",
   "execution_count": 26,
   "id": "ecf60b26",
   "metadata": {},
   "outputs": [
    {
     "name": "stdout",
     "output_type": "stream",
     "text": [
      "cherry\n",
      "['apple', 'banana', 'orange', 'pineapple']\n"
     ]
    }
   ],
   "source": [
    "# The pop() method removes the element at the required position.\n",
    "fruits = ['apple', 'banana', 'cherry', 'orange', 'pineapple']\n",
    "print(fruits.pop(2) )#remove an item at the index 2\n",
    "print(fruits)"
   ]
  },
  {
   "cell_type": "code",
   "execution_count": 28,
   "id": "54b65393",
   "metadata": {},
   "outputs": [
    {
     "data": {
      "text/plain": [
       "['apple', 'cherry', 'orange', 'pineapple']"
      ]
     },
     "execution_count": 28,
     "metadata": {},
     "output_type": "execute_result"
    }
   ],
   "source": [
    "# The remove() method removes the first occurrence of the element with the specified value.\n",
    "fruits = ['apple', 'banana', 'cherry', 'orange', 'pineapple']\n",
    "fruits.remove(\"banana\")\n",
    "fruits"
   ]
  },
  {
   "cell_type": "code",
   "execution_count": 31,
   "id": "7265fc53",
   "metadata": {},
   "outputs": [
    {
     "data": {
      "text/plain": [
       "['pineapple', 'orange', 'cherry', 'banana', 'apple']"
      ]
     },
     "execution_count": 31,
     "metadata": {},
     "output_type": "execute_result"
    }
   ],
   "source": [
    "# The reverse() method reverses the order of the elements.\n",
    "fruits = ['apple', 'banana', 'cherry', 'orange', 'pineapple']\n",
    "fruits.reverse()\n",
    "fruits"
   ]
  },
  {
   "cell_type": "code",
   "execution_count": 32,
   "id": "2e785faf",
   "metadata": {},
   "outputs": [
    {
     "data": {
      "text/plain": [
       "['apple', 'banana', 'cherry', 'orange']"
      ]
     },
     "execution_count": 32,
     "metadata": {},
     "output_type": "execute_result"
    }
   ],
   "source": [
    "# The copy() method returns a copy of the specified list and makes the new list.\n",
    "fruits = ['apple', 'banana', 'cherry', 'orange']\n",
    "new_list = fruits.copy()\n",
    "new_list"
   ]
  }
 ],
 "metadata": {
  "kernelspec": {
   "display_name": "Python 3",
   "language": "python",
   "name": "python3"
  },
  "language_info": {
   "codemirror_mode": {
    "name": "ipython",
    "version": 3
   },
   "file_extension": ".py",
   "mimetype": "text/x-python",
   "name": "python",
   "nbconvert_exporter": "python",
   "pygments_lexer": "ipython3",
   "version": "3.8.10"
  }
 },
 "nbformat": 4,
 "nbformat_minor": 5
}
