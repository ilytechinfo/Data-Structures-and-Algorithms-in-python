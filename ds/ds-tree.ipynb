{
 "cells": [
  {
   "cell_type": "markdown",
   "id": "cb34013d",
   "metadata": {},
   "source": [
    "# Data Structures and Algorithms in python"
   ]
  },
  {
   "cell_type": "markdown",
   "id": "12e3031f",
   "metadata": {},
   "source": [
    "# User-Defined Data Structures"
   ]
  },
  {
   "cell_type": "raw",
   "id": "c300cd8b",
   "metadata": {},
   "source": [
    "Tree (general tree)\n",
    "    Trees are used to define hierarchy. It starts with the root node and goes further down, the last nodes are called child nodes.\n",
    "Binary Tree\n",
    "    The binary tree is a tree data structure in which each node has at most two children, which are referred to as the left child and the right child."
   ]
  },
  {
   "cell_type": "code",
   "execution_count": 3,
   "id": "55d1145c",
   "metadata": {},
   "outputs": [],
   "source": [
    "# create the class Node and the attrbutes \n",
    "class Node:\n",
    "    def __init__(self, letter):\n",
    "        self.childleft = None\n",
    "        self.childright = None\n",
    "        self.nodedata = letter\n",
    "\n",
    "# create the nodes for the tree\n",
    "root = Node('A')\n",
    "root.childleft = Node('B')\n",
    "root.childright = Node('C')\n",
    "root.childleft.childleft = Node('D')\n",
    "root.childleft.childright = Node('E')"
   ]
  }
 ],
 "metadata": {
  "kernelspec": {
   "display_name": "Python 3",
   "language": "python",
   "name": "python3"
  },
  "language_info": {
   "codemirror_mode": {
    "name": "ipython",
    "version": 3
   },
   "file_extension": ".py",
   "mimetype": "text/x-python",
   "name": "python",
   "nbconvert_exporter": "python",
   "pygments_lexer": "ipython3",
   "version": "3.8.10"
  }
 },
 "nbformat": 4,
 "nbformat_minor": 5
}
