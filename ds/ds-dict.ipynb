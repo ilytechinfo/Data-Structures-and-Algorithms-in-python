{
 "cells": [
  {
   "cell_type": "markdown",
   "id": "b969fbe3",
   "metadata": {},
   "source": [
    "# Data Structures and Algorithms in python"
   ]
  },
  {
   "cell_type": "markdown",
   "id": "d0959fba",
   "metadata": {},
   "source": [
    "# Bult-in Data Structures"
   ]
  },
  {
   "cell_type": "raw",
   "id": "33b8e1a4",
   "metadata": {},
   "source": [
    "Dictionary\n",
    "    Dictionary is a mutable and unordered data structure. It permits storing a pair of items (i.e. keys and values)."
   ]
  },
  {
   "cell_type": "code",
   "execution_count": 1,
   "id": "d35a6c74",
   "metadata": {},
   "outputs": [
    {
     "name": "stdout",
     "output_type": "stream",
     "text": [
      "In a Sentimental Mood\n",
      "Lacrimosa\n"
     ]
    }
   ],
   "source": [
    "music = { 'jazz': {\"Coltrane\": \"In a Sentimental Mood\",\n",
    "                          \"M.Davis\":\"Blue in Green\" ,\n",
    "                          \"T.Monk\":\"Don't Blame Me\"},\n",
    "            \"classical\" : {\"Bach\": \"Cello Suit\",\n",
    "                        \"Mozart\": \"Lacrimosa\",\n",
    "                        \"Satie\": \"Gymnopédie\"}}\n",
    "\n",
    "print(music[\"jazz\"][\"Coltrane\"]) # we select the value of the key Coltrane\n",
    "print(music[\"classical\"][\"Mozart\"])"
   ]
  }
 ],
 "metadata": {
  "kernelspec": {
   "display_name": "Python 3",
   "language": "python",
   "name": "python3"
  },
  "language_info": {
   "codemirror_mode": {
    "name": "ipython",
    "version": 3
   },
   "file_extension": ".py",
   "mimetype": "text/x-python",
   "name": "python",
   "nbconvert_exporter": "python",
   "pygments_lexer": "ipython3",
   "version": "3.8.10"
  }
 },
 "nbformat": 4,
 "nbformat_minor": 5
}
