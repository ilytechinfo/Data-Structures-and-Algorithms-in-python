{
 "cells": [
  {
   "cell_type": "markdown",
   "id": "df51b1e0",
   "metadata": {},
   "source": [
    "# Data Structures and Algorithms in python"
   ]
  },
  {
   "cell_type": "markdown",
   "id": "916794ff",
   "metadata": {},
   "source": [
    "# User-Defined Data Structures"
   ]
  },
  {
   "cell_type": "raw",
   "id": "f64c969b",
   "metadata": {},
   "source": [
    "Stack using arrays\n",
    "    The stack is a linear data structure where elements are arranged sequentially. It follows the mechanism L.I.F.O which means last in first out. So, the last element inserted will be removed as the first. The operations are:\n",
    "    Push → inserting an element into the stack\n",
    "    Pop → deleting an element from the stack\n",
    "The conditions to check:\n",
    "    overflow condition → this condition occurs when we try to put one more element into a stack that is already having maximum elements.\n",
    "    underflow condition →this condition occurs when we try to delete an element from an empty stack.\n"
   ]
  },
  {
   "cell_type": "code",
   "execution_count": 1,
   "id": "c7284b42",
   "metadata": {},
   "outputs": [
    {
     "name": "stdout",
     "output_type": "stream",
     "text": [
      "5\n",
      "True\n",
      "[10, 23, 25, 27, 11]\n",
      "overflow\n",
      "11\n",
      "27\n",
      "25\n",
      "23\n",
      "10\n",
      "underflow\n"
     ]
    }
   ],
   "source": [
    "class mystack:\n",
    "    \n",
    "    def __init__(self):\n",
    "        self.data =[]\n",
    "        \n",
    "    def length(self): #length of the list\n",
    "        return len(self.data)\n",
    "    \n",
    "    def is_full(self): #check if the list is full or not\n",
    "        if len(self.data) == 5:\n",
    "            return True\n",
    "        else:\n",
    "            return False\n",
    "        \n",
    "    def push(self, element):# insert a new element\n",
    "        if len(self.data) < 5:\n",
    "            self.data.append(element)\n",
    "        else:\n",
    "            return \"overflow\"\n",
    "        \n",
    "    def pop(self): # # remove the last element from a list\n",
    "        if len(self.data) == 0:\n",
    "            return \"underflow\"\n",
    "        else:\n",
    "            return self.data.pop()\n",
    "\n",
    "a = mystack() # I create my object\n",
    "a.push(10) # insert the  element\n",
    "a.push(23)\n",
    "a.push(25)\n",
    "a.push(27)\n",
    "a.push(11)\n",
    "print(a.length())\n",
    "print(a.is_full())\n",
    "print(a.data)\n",
    "print(a.push(31)) # we try to insert one more element in the list - the output will be overflow\n",
    "print(a.pop())\n",
    "print(a.pop())\n",
    "print(a.pop())\n",
    "print(a.pop())\n",
    "print(a.pop())\n",
    "print(a.pop()) # try to delete an element in a list without elements - the output will be underflow"
   ]
  }
 ],
 "metadata": {
  "kernelspec": {
   "display_name": "Python 3",
   "language": "python",
   "name": "python3"
  },
  "language_info": {
   "codemirror_mode": {
    "name": "ipython",
    "version": 3
   },
   "file_extension": ".py",
   "mimetype": "text/x-python",
   "name": "python",
   "nbconvert_exporter": "python",
   "pygments_lexer": "ipython3",
   "version": "3.8.10"
  }
 },
 "nbformat": 4,
 "nbformat_minor": 5
}
