{
 "cells": [
  {
   "cell_type": "markdown",
   "id": "8860a46c",
   "metadata": {},
   "source": [
    "# Data Structures and Algorithms in python "
   ]
  },
  {
   "cell_type": "markdown",
   "id": "0e061a2a",
   "metadata": {},
   "source": [
    "# Bult-in Data Structures"
   ]
  },
  {
   "cell_type": "raw",
   "id": "41cdb73c",
   "metadata": {},
   "source": [
    "Set\n",
    "   Set is a mutable and unordered collection of unique elements. It can permit us to remove duplicate quickly from a list."
   ]
  },
  {
   "cell_type": "code",
   "execution_count": 3,
   "id": "de040a09",
   "metadata": {},
   "outputs": [
    {
     "name": "stdout",
     "output_type": "stream",
     "text": [
      "{1, 2, 3, 5, 6}\n"
     ]
    }
   ],
   "source": [
    "numbers = [1, 2, 6, 3, 1, 1, 5] \n",
    "unique_nums = set(numbers)\n",
    "print(unique_nums)"
   ]
  },
  {
   "cell_type": "code",
   "execution_count": 4,
   "id": "ada4911f",
   "metadata": {},
   "outputs": [
    {
     "name": "stdout",
     "output_type": "stream",
     "text": [
      "{2, 3, 5, 7, 11}\n"
     ]
    }
   ],
   "source": [
    "# The add() method adds a given element to a set. If the element is already present, it doesn't add any element.\n",
    "# add() method takes a single parameter:\n",
    "# add() method doesn't return any value and returns None.\n",
    "\n",
    "prime_numbers = {2, 3, 5, 7}\n",
    "# add 11 to prime_numbers\n",
    "prime_numbers.add(11)\n",
    "print(prime_numbers)"
   ]
  },
  {
   "cell_type": "code",
   "execution_count": 5,
   "id": "9299cae3",
   "metadata": {},
   "outputs": [
    {
     "name": "stdout",
     "output_type": "stream",
     "text": [
      "Vowels (before clear): {'e', 'a', 'o', 'u', 'i'}\n",
      "Vowels (after clear): set()\n"
     ]
    }
   ],
   "source": [
    "# The clear() method removes all elements from the set.\n",
    "# clear() method doesn't take any parameters.\n",
    "# clear() method doesn't return any value and returns a None.\n",
    "\n",
    "# set of vowels\n",
    "vowels = {'a', 'e', 'i', 'o', 'u'}\n",
    "print('Vowels (before clear):', vowels)\n",
    "\n",
    "# clearing vowels\n",
    "vowels.clear()\n",
    "print('Vowels (after clear):', vowels)"
   ]
  },
  {
   "cell_type": "code",
   "execution_count": 6,
   "id": "fec1149a",
   "metadata": {},
   "outputs": [
    {
     "name": "stdout",
     "output_type": "stream",
     "text": [
      "numbers:  {1, 2, 3, 4}\n",
      "new_numbers:  {1, 2, 3, 4, 5}\n"
     ]
    }
   ],
   "source": [
    "# The copy() method returns a shallow copy of the set.\n",
    "# A set can be copied using = operator in Python.\n",
    "# It doesn't take any parameters.\n",
    "# The copy() method returns a shallow copy of the set.\n",
    "\n",
    "numbers = {1, 2, 3, 4}\n",
    "new_numbers = numbers.copy()\n",
    "new_numbers.add(5)\n",
    "print('numbers: ', numbers)\n",
    "print('new_numbers: ', new_numbers)"
   ]
  },
  {
   "cell_type": "code",
   "execution_count": 8,
   "id": "6f46e0cf",
   "metadata": {},
   "outputs": [
    {
     "name": "stdout",
     "output_type": "stream",
     "text": [
      "{'b', 'd', 'a'}\n",
      "{'f', 'g'}\n"
     ]
    }
   ],
   "source": [
    "# The difference() method returns the set difference of two sets.\n",
    "# If A and B are two sets.The set difference of A and B is a set of elements that exists only in set A but not in B \n",
    "# difference() returns the difference between two sets which is also a set. It doesn't modify the original sets.\n",
    "\n",
    "A = {'a', 'b', 'c', 'd'}\n",
    "B = {'c', 'f', 'g'}\n",
    "# Equivalent to A-B\n",
    "print(A.difference(B))\n",
    "# Equivalent to B-A\n",
    "print(B.difference(A))"
   ]
  },
  {
   "cell_type": "code",
   "execution_count": 10,
   "id": "1d666215",
   "metadata": {},
   "outputs": [
    {
     "name": "stdout",
     "output_type": "stream",
     "text": [
      "A =  {'d', 'a'}\n",
      "B =  {'c', 'g', 'f'}\n",
      "result =  None\n"
     ]
    }
   ],
   "source": [
    "# The difference_update() updates the set calling difference_update() method with the difference of sets.\n",
    "# If A and B are two sets.The set difference of A and B is a set of elements that exists only in set A but not in B\n",
    "# difference_update() returns None indicating the object (set) is mutated.\n",
    "\n",
    "A = {'a', 'c', 'g', 'd'}\n",
    "B = {'c', 'f', 'g'}\n",
    "result = A.difference_update(B)\n",
    "print('A = ', A)\n",
    "print('B = ', B)\n",
    "print('result = ', result)"
   ]
  },
  {
   "cell_type": "code",
   "execution_count": 11,
   "id": "b903664d",
   "metadata": {},
   "outputs": [
    {
     "name": "stdout",
     "output_type": "stream",
     "text": [
      "numbers =  {2, 4, 5}\n",
      "numbers =  {2, 4, 5}\n"
     ]
    }
   ],
   "source": [
    "# The discard() method removes a specified element from the set (if present).\n",
    "# discard() method takes a single element x and removes it from the set (if present).\n",
    "# discard() removes element x from the set if the element is present.\n",
    "# This method returns None (meaning, absence of a return value).\n",
    "\n",
    "numbers = {2, 3, 4, 5}\n",
    "numbers.discard(3)\n",
    "print('numbers = ', numbers)\n",
    "numbers.discard(10)\n",
    "print('numbers = ', numbers)"
   ]
  },
  {
   "cell_type": "code",
   "execution_count": 12,
   "id": "78bbd875",
   "metadata": {},
   "outputs": [
    {
     "name": "stdout",
     "output_type": "stream",
     "text": [
      "Return Value is c\n",
      "A =  {'b', 'd', 'a'}\n"
     ]
    }
   ],
   "source": [
    "# The pop() method removes an arbitrary element from the set and returns the element removed.\n",
    "# The pop() method doesn't take any arguments.\n",
    "# The pop() method returns an arbitrary (random) element from the set.\n",
    "# Also, the set is updated and will not contain the element (which is returned).\n",
    "# If the set is empty, TypeError exception is raised.\n",
    "\n",
    "\n",
    "A ={'a', 'b', 'c', 'd'}\n",
    "print('Return Value is', A.pop())\n",
    "print('A = ', A)"
   ]
  },
  {
   "cell_type": "code",
   "execution_count": 13,
   "id": "f2bd6826",
   "metadata": {},
   "outputs": [
    {
     "name": "stdout",
     "output_type": "stream",
     "text": [
      "Updated language set: {'English', 'French'}\n"
     ]
    }
   ],
   "source": [
    "# The remove() method removes the specified element from the set.\n",
    "# The remove() method takes a single element as an argument and removes it from the set.\n",
    "# The remove() removes the specified element from the set and updates the set. It doesn't return any value.\n",
    "# If the element passed to remove() doesn't exist, KeyError exception is thrown.\n",
    "\n",
    "# language set\n",
    "language = {'English', 'French', 'German'}\n",
    "# removing 'German' from language\n",
    "language.remove('German')\n",
    "# Updated language set\n",
    "print('Updated language set:', language)"
   ]
  },
  {
   "cell_type": "code",
   "execution_count": 14,
   "id": "bf2d68f1",
   "metadata": {},
   "outputs": [
    {
     "name": "stdout",
     "output_type": "stream",
     "text": [
      "A = {1, 2, 3, 'b', 'a'}\n",
      "result = None\n"
     ]
    }
   ],
   "source": [
    "# The Python set update() method updates the set, adding items from other iterables.\n",
    "# This set update() method returns None (returns nothing).\n",
    "\n",
    "A = {'a', 'b'}\n",
    "B = {1, 2, 3}\n",
    "result = A.update(B)\n",
    "print('A =', A)\n",
    "print('result =', result)"
   ]
  },
  {
   "cell_type": "code",
   "execution_count": null,
   "id": "8eccfc67",
   "metadata": {},
   "outputs": [],
   "source": []
  }
 ],
 "metadata": {
  "kernelspec": {
   "display_name": "Python 3",
   "language": "python",
   "name": "python3"
  },
  "language_info": {
   "codemirror_mode": {
    "name": "ipython",
    "version": 3
   },
   "file_extension": ".py",
   "mimetype": "text/x-python",
   "name": "python",
   "nbconvert_exporter": "python",
   "pygments_lexer": "ipython3",
   "version": "3.8.10"
  }
 },
 "nbformat": 4,
 "nbformat_minor": 5
}
